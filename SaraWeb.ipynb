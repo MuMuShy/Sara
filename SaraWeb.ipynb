{
 "cells": [
  {
   "cell_type": "code",
   "execution_count": 29,
   "metadata": {},
   "outputs": [],
   "source": [
    "import webbrowser\n",
    "import platform\n",
    "# MacOS\n",
    "chrome_path = 'open -a /Applications/Google\\ Chrome.app %s'\n",
    "# Windows\n",
    "# chrome_path = 'C:/Program Files (x86)/Google/Chrome/Application/chrome.exe %s'\n",
    "# Linux\n",
    "# chrome_path = '/usr/bin/google-chrome %s'  \n",
    "def __init__(self):\n",
    "    if platform.system()==Darwin:\n",
    "        chrome_path = 'open -a /Applications/Google\\ Chrome.app %s'\n",
    "    if platform.system()==Windows:\n",
    "        chrome_path='C:/Program Files (x86)/Google/Chrome/Application/chrome.exe %s'\n",
    "def openWithURL():\n",
    "    url=input()\n",
    "    webbrowser.get(chrome_path).open(url)\n",
    "def mult(a,b):\n",
    "    return a*b\n"
   ]
  },
  {
   "cell_type": "code",
   "execution_count": 28,
   "metadata": {},
   "outputs": [],
   "source": []
  },
  {
   "cell_type": "code",
   "execution_count": null,
   "metadata": {},
   "outputs": [],
   "source": []
  }
 ],
 "metadata": {
  "kernelspec": {
   "display_name": "Python 3",
   "language": "python",
   "name": "python3"
  },
  "language_info": {
   "codemirror_mode": {
    "name": "ipython",
    "version": 3
   },
   "file_extension": ".py",
   "mimetype": "text/x-python",
   "name": "python",
   "nbconvert_exporter": "python",
   "pygments_lexer": "ipython3",
   "version": "3.7.0"
  }
 },
 "nbformat": 4,
 "nbformat_minor": 2
}
