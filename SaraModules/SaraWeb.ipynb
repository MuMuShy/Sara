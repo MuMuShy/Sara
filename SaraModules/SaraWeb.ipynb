{
 "cells": [
  {
   "cell_type": "code",
   "execution_count": 5,
   "metadata": {},
   "outputs": [
    {
     "name": "stdout",
     "output_type": "stream",
     "text": [
      "請輸入你要搜索什麼:傳說對決\n",
      "《傳說對決》（英语：Arena of Valor，簡稱AoV）是一款由新加坡Garena和腾讯天美工作室群共同开发、Garena發行的DotA模式的多人線上戰鬥競技場（MOBA）手機遊戲，於Android平台和iOS平台免費下載,是一款MOBA手遊，深受玩家好評。\n",
      "\n"
     ]
    }
   ],
   "source": [
    "import webbrowser\n",
    "import platform\n",
    "import requests\n",
    "from bs4 import BeautifulSoup\n",
    "import re\n",
    "# MacOS\n",
    "chrome_path = 'open -a /Applications/Google\\ Chrome.app %s'\n",
    "# Windows\n",
    "# chrome_path = 'C:/Program Files (x86)/Google/Chrome/Application/chrome.exe %s'\n",
    "# Linux\n",
    "# chrome_path = '/usr/bin/google-chrome %s'  \n",
    "def __init__(self):\n",
    "    if platform.system()==Darwin:\n",
    "        chrome_path = 'open -a /Applications/Google\\ Chrome.app %s'\n",
    "    if platform.system()==Windows:\n",
    "        chrome_path='C:/Program Files (x86)/Google/Chrome/Application/chrome.exe %s'\n",
    "#開啟網頁\n",
    "def openWithURL():\n",
    "    url=input()\n",
    "    webbrowser.get(chrome_path).open(url)\n",
    "#爬取逢甲大學ilearn公布欄\n",
    "def SearchilearnBroadcast():\n",
    "    session = requests.Session()\n",
    "    account=input('請輸入帳號:')\n",
    "    password=input('請輸入密碼:')\n",
    "    print('請稍等')\n",
    "    data = {'username': account, 'password': password}\n",
    "    r = session.post('https://ilearn2.fcu.edu.tw/login/index.php', data=data)\n",
    "    print(r.cookies.get_dict())\n",
    "    r = session.get(\"https://ilearn2.fcu.edu.tw/\")\n",
    "    soup = BeautifulSoup(r.text,'lxml')\n",
    "    allClass=soup.find_all(\"a\",title = re.compile(r'^1071(\\w+)'))\n",
    "    say=\"\"\n",
    "    for ul in allClass:\n",
    "        print(ul['href'])\n",
    "        r=session.get(ul['href'])\n",
    "        soup=BeautifulSoup(r.text,'lxml')\n",
    "        subjectName=soup.find(\"h1\",{\"class\":\"coursetitle\"})\n",
    "        subjectName=subjectName.text[5:-6]\n",
    "        print(subjectName)\n",
    "        broadcastURL=soup.find_all(\"a\", href=re.compile(r\"^https://ilearn2.fcu.edu.tw/mod/forum/view.php?(\\w+)\"))\n",
    "        r=session.get(broadcastURL[2]['href'])\n",
    "        soup=BeautifulSoup(r.content,'lxml')\n",
    "        result=soup.find(class_=\"forumheaderlist\")\n",
    "        if result==None:\n",
    "            print(\"no new broadcast\")\n",
    "        else:\n",
    "            print(result)\n",
    "            say+=subjectName\n",
    "    print('以下科目有新的公告 請趕快登入網站查詢:'+say)\n",
    "    data=input('要幫你打開ilearn嗎？ y/n')\n",
    "    if data is 'y':\n",
    "         webbrowser.get(chrome_path).open('https://ilearn2.fcu.edu.tw/')\n",
    "#查詢台中天氣\n",
    "def SearchingWeather():\n",
    "    r = requests.get('https://www.cwb.gov.tw/V7/forecast/taiwan/Taichung_City.htm')\n",
    "    soup=BeautifulSoup(r.content,'lxml')\n",
    "    result=soup.find_all(\"td\")\n",
    "    speak=\"台中天氣 今晚至明晨\"+result[2].text+\" 明天白天\"+result[6].text+\" 明天晚上\"+result[10].text\n",
    "    print(speak)\n",
    "#爬取維基百科\n",
    "def SearchWiki():\n",
    "    searching=input('請輸入你要搜索什麼:')\n",
    "    res=requests.get('https://zh.wikipedia.org/wiki/{}'.format(searching))\n",
    "    soup=BeautifulSoup(res.text,'lxml')\n",
    "    result=soup.select_one('.mw-parser-output p').text\n",
    "    print(result)\n"
   ]
  },
  {
   "cell_type": "code",
   "execution_count": null,
   "metadata": {},
   "outputs": [],
   "source": []
  }
 ],
 "metadata": {
  "kernelspec": {
   "display_name": "Python 3",
   "language": "python",
   "name": "python3"
  },
  "language_info": {
   "codemirror_mode": {
    "name": "ipython",
    "version": 3
   },
   "file_extension": ".py",
   "mimetype": "text/x-python",
   "name": "python",
   "nbconvert_exporter": "python",
   "pygments_lexer": "ipython3",
   "version": "3.7.0"
  }
 },
 "nbformat": 4,
 "nbformat_minor": 2
}
