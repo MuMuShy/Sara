{
 "cells": [
  {
   "cell_type": "code",
   "execution_count": 24,
   "metadata": {},
   "outputs": [
    {
     "ename": "ModuleNotFoundError",
     "evalue": "No module named 'SaraModules'",
     "output_type": "error",
     "traceback": [
      "\u001b[0;31m---------------------------------------------------------------------------\u001b[0m",
      "\u001b[0;31mModuleNotFoundError\u001b[0m                       Traceback (most recent call last)",
      "\u001b[0;32m<ipython-input-24-1a61a4624544>\u001b[0m in \u001b[0;36m<module>\u001b[0;34m\u001b[0m\n\u001b[1;32m     71\u001b[0m             \u001b[0mdocument\u001b[0m\u001b[0;34m.\u001b[0m\u001b[0madd_paragraph\u001b[0m\u001b[0;34m(\u001b[0m\u001b[0mpara\u001b[0m\u001b[0;34m)\u001b[0m\u001b[0;34m\u001b[0m\u001b[0m\n\u001b[1;32m     72\u001b[0m             \u001b[0mprint\u001b[0m\u001b[0;34m(\u001b[0m\u001b[0;34m\"內容 : \"\u001b[0m\u001b[0;34m+\u001b[0m\u001b[0mpara\u001b[0m\u001b[0;34m)\u001b[0m\u001b[0;34m\u001b[0m\u001b[0m\n\u001b[0;32m---> 73\u001b[0;31m \u001b[0mMakeReport\u001b[0m\u001b[0;34m(\u001b[0m\u001b[0;34m)\u001b[0m\u001b[0;34m\u001b[0m\u001b[0m\n\u001b[0m",
      "\u001b[0;32m<ipython-input-24-1a61a4624544>\u001b[0m in \u001b[0;36mMakeReport\u001b[0;34m()\u001b[0m\n\u001b[1;32m     30\u001b[0m         \u001b[0mprint\u001b[0m\u001b[0;34m(\u001b[0m\u001b[0;34m\"目錄：\"\u001b[0m\u001b[0;34m,\u001b[0m \u001b[0mf\u001b[0m\u001b[0;34m)\u001b[0m\u001b[0;34m\u001b[0m\u001b[0m\n\u001b[1;32m     31\u001b[0m \u001b[0;32mdef\u001b[0m \u001b[0mMakeReport\u001b[0m\u001b[0;34m(\u001b[0m\u001b[0;34m)\u001b[0m\u001b[0;34m:\u001b[0m\u001b[0;34m\u001b[0m\u001b[0m\n\u001b[0;32m---> 32\u001b[0;31m     \u001b[0;32mfrom\u001b[0m \u001b[0mSaraModules\u001b[0m \u001b[0;32mimport\u001b[0m \u001b[0mSaraSpeak\u001b[0m\u001b[0;34m\u001b[0m\u001b[0m\n\u001b[0m\u001b[1;32m     33\u001b[0m     \u001b[0;32mfrom\u001b[0m \u001b[0mSaraModules\u001b[0m \u001b[0;32mimport\u001b[0m \u001b[0mSaraListen\u001b[0m\u001b[0;34m\u001b[0m\u001b[0m\n\u001b[1;32m     34\u001b[0m     \u001b[0mSaraSpeak\u001b[0m\u001b[0;34m.\u001b[0m\u001b[0mSpeakChinese\u001b[0m\u001b[0;34m(\u001b[0m\u001b[0;34m'請問你要做什麼主題的報告'\u001b[0m\u001b[0;34m)\u001b[0m\u001b[0;34m\u001b[0m\u001b[0m\n",
      "\u001b[0;31mModuleNotFoundError\u001b[0m: No module named 'SaraModules'"
     ]
    }
   ],
   "source": [
    "from docx import Document\n",
    "from docx.shared import Inches\n",
    "import requests\n",
    "from bs4 import BeautifulSoup\n",
    "import re\n",
    "import os\n",
    "def downloadImage(downloadname):\n",
    "    from google_images_download import google_images_download   #importing the library\n",
    "    response = google_images_download.googleimagesdownload()   #class instantiation\n",
    "    path1=os.path.abspath('..')\n",
    "    arguments = {\"keywords\":downloadname,\"limit\":1,\"print_urls\":True,\"output_directory\":path1,\"image_directory\":downloadname}   #creating list of arguments\n",
    "    paths = response.download(arguments)   #passing the arguments to the function\n",
    "    print('done')\n",
    "def getImagefileName(downloadname):\n",
    "    from os import listdir\n",
    "    from os.path import isfile, isdir, join\n",
    "    path1=os.path.abspath('..')\n",
    "    # 指定要列出所有檔案的目錄\n",
    "    mypath = path1+\"/\"+downloadname+\"/\"\n",
    "    # 取得所有檔案與子目錄名稱\n",
    "    files = listdir(mypath)\n",
    "    # 以迴圈處理\n",
    "    for f in files:\n",
    "      # 產生檔案的絕對路徑\n",
    "      fullpath = join(mypath, f)\n",
    "      # 判斷 fullpath 是檔案還是目錄\n",
    "      if isfile(fullpath):\n",
    "        return(str(f))\n",
    "      elif isdir(fullpath):\n",
    "        print(\"目錄：\", f)\n",
    "def MakeReport():\n",
    "    from SaraModules import SaraSpeak\n",
    "    from SaraModules import SaraListen\n",
    "    SaraSpeak.SpeakChinese('請問你要做什麼主題的報告')\n",
    "    time.sleep(1)\n",
    "    temp=SaraListen.Listen()\n",
    "    if temp:\n",
    "        Doctitle=temp\n",
    "    else:\n",
    "        SaraSpeak.SpeakChinese('不好意思我不太了解 你可以輸入給我嗎')\n",
    "        Doctitle=input('請問你要做什麼報告?')\n",
    "    downloadImage(Doctitle)\n",
    "    path1=os.path.abspath('..')\n",
    "    imagePath=path1+\"/\"+Doctitle+\"/\"+getImagefileName(Doctitle)\n",
    "    print(\"相片路徑\"+imagePath)\n",
    "    document = Document()\n",
    "    document.add_heading(Doctitle, 0)\n",
    "    res=requests.get('https://zh.wikipedia.org/wiki/{}'.format(Doctitle))\n",
    "    soup=BeautifulSoup(res.text,'lxml')\n",
    "    result=soup.find_all('p')\n",
    "    par1=str(result[0].text)\n",
    "    par1 = re.sub(u\"\\\\(.*?\\\\)|\\\\{.*?}|\\\\[.*?]\", \"\", par1)\n",
    "    document.add_paragraph(par1)\n",
    "    document.add_picture(imagePath, width=Inches(6), height=Inches(4))\n",
    "    result2=soup.find_all('h3')\n",
    "    for r in result2:\n",
    "        result=str(r.text)\n",
    "        result = re.sub(u\"\\\\(.*?\\\\)|\\\\{.*?}|\\\\[.*?]\", \"\", result)\n",
    "        print(\"標題 :\"+result)\n",
    "        para = r.find_next_sibling('p')\n",
    "        if para==None:\n",
    "            docpath=os.path.abspath('..')\n",
    "            document.save(docpath+\"/\"+Doctitle+\".doc\")\n",
    "            return\n",
    "        else:       \n",
    "            para=str(para.text)\n",
    "            if len(para)<10:\n",
    "                continue\n",
    "            para=re.sub(u\"\\\\(.*?\\\\)|\\\\{.*?}|\\\\[.*?]\", \"\", para)\n",
    "            document.add_heading(result, 0)\n",
    "            document.add_paragraph(para)\n",
    "            print(\"內容 : \"+para)\n",
    "MakeReport()"
   ]
  },
  {
   "cell_type": "code",
   "execution_count": null,
   "metadata": {},
   "outputs": [],
   "source": []
  }
 ],
 "metadata": {
  "kernelspec": {
   "display_name": "Python 3",
   "language": "python",
   "name": "python3"
  },
  "language_info": {
   "codemirror_mode": {
    "name": "ipython",
    "version": 3
   },
   "file_extension": ".py",
   "mimetype": "text/x-python",
   "name": "python",
   "nbconvert_exporter": "python",
   "pygments_lexer": "ipython3",
   "version": "3.7.0"
  }
 },
 "nbformat": 4,
 "nbformat_minor": 2
}
